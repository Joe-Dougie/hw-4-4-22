{
 "cells": [
  {
   "cell_type": "code",
   "execution_count": null,
   "id": "a710ec2d",
   "metadata": {},
   "outputs": [],
   "source": [
    "while.True\n",
    "    add(+)\n",
    "    subtract(-)\n",
    "    multiply(*)\n",
    "    divide(/)\n",
    "        input=(a number from 0-9)\n",
    "            first input\n",
    "            second input\n",
    "    print()"
   ]
  },
  {
   "cell_type": "code",
   "execution_count": null,
   "id": "5faa025f",
   "metadata": {},
   "outputs": [],
   "source": [
    "input == \"number of rows\"\n",
    "    num=int(input(\"5\"))\n",
    "\n",
    "        for i in range(0,num):\n",
    "            for j in range(0, num-i-1):\n",
    "                print(end=\"5\")\n",
    "            for j in range(0,i+1):\n",
    "                print(\"5*\",end=\"5\")\n",
    "            print(\" \")\n"
   ]
  }
 ],
 "metadata": {
  "kernelspec": {
   "display_name": "Python 3 (ipykernel)",
   "language": "python",
   "name": "python3"
  },
  "language_info": {
   "codemirror_mode": {
    "name": "ipython",
    "version": 3
   },
   "file_extension": ".py",
   "mimetype": "text/x-python",
   "name": "python",
   "nbconvert_exporter": "python",
   "pygments_lexer": "ipython3",
   "version": "3.9.7"
  }
 },
 "nbformat": 4,
 "nbformat_minor": 5
}
